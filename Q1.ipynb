{
  "nbformat": 4,
  "nbformat_minor": 0,
  "metadata": {
    "colab": {
      "provenance": [],
      "gpuType": "T4",
      "include_colab_link": true
    },
    "kernelspec": {
      "name": "python3",
      "display_name": "Python 3"
    },
    "language_info": {
      "name": "python"
    },
    "accelerator": "GPU"
  },
  "cells": [
    {
      "cell_type": "markdown",
      "metadata": {
        "id": "view-in-github",
        "colab_type": "text"
      },
      "source": [
        "<a href=\"https://colab.research.google.com/github/juagarmar/Deep_lerning_tf_Cert_Prep/blob/main/Q1.ipynb\" target=\"_parent\"><img src=\"https://colab.research.google.com/assets/colab-badge.svg\" alt=\"Open In Colab\"/></a>"
      ]
    },
    {
      "cell_type": "markdown",
      "source": [
        "# Question"
      ],
      "metadata": {
        "id": "bPd_A04H6Jf7"
      }
    },
    {
      "cell_type": "markdown",
      "source": [
        "Using the provided dataset, develop a neural network model with the objective of matching the input values (xs) with their corresponding output values (ys). The goal is to create a model in such a way that when you provide a new input value (X), the model's prediction will yield a floating-point number that is highly accurate, essentially mimicking the desired outcome.\n",
        "\n",
        "The testing framework requires that the trained model accepts input data with a shape of [1].\n",
        "\n",
        "Please save the model in the location given by **model_path**."
      ],
      "metadata": {
        "id": "_PFsASlU48G5"
      }
    },
    {
      "cell_type": "code",
      "source": [
        "!wget https://utils-computervisiondeveloper.s3.amazonaws.com/media/public/TensorFlowDeveloperCertificate/submit_and_test_model_q1.py url -O /tmp/submit_and_test_model_q1.py\n",
        "\n",
        "import sys\n",
        "sys.path.append('/tmp/')"
      ],
      "metadata": {
        "id": "vAJx2em28hg8",
        "outputId": "be8a32c3-e52b-436a-e197-fe27b218d260",
        "colab": {
          "base_uri": "https://localhost:8080/"
        }
      },
      "execution_count": 1,
      "outputs": [
        {
          "output_type": "stream",
          "name": "stdout",
          "text": [
            "--2024-05-23 09:59:20--  https://utils-computervisiondeveloper.s3.amazonaws.com/media/public/TensorFlowDeveloperCertificate/submit_and_test_model_q1.py\n",
            "Resolving utils-computervisiondeveloper.s3.amazonaws.com (utils-computervisiondeveloper.s3.amazonaws.com)... 52.216.179.139, 16.182.73.57, 52.216.246.60, ...\n",
            "Connecting to utils-computervisiondeveloper.s3.amazonaws.com (utils-computervisiondeveloper.s3.amazonaws.com)|52.216.179.139|:443... connected.\n",
            "HTTP request sent, awaiting response... 200 OK\n",
            "Length: 475 [text/x-python]\n",
            "Saving to: ‘/tmp/submit_and_test_model_q1.py’\n",
            "\n",
            "/tmp/submit_and_tes 100%[===================>]     475  --.-KB/s    in 0s      \n",
            "\n",
            "2024-05-23 09:59:21 (11.5 MB/s) - ‘/tmp/submit_and_test_model_q1.py’ saved [475/475]\n",
            "\n",
            "--2024-05-23 09:59:21--  http://url/\n",
            "Resolving url (url)... failed: Name or service not known.\n",
            "wget: unable to resolve host address ‘url’\n",
            "FINISHED --2024-05-23 09:59:21--\n",
            "Total wall clock time: 0.4s\n",
            "Downloaded: 1 files, 475 in 0s (11.5 MB/s)\n"
          ]
        }
      ]
    },
    {
      "cell_type": "code",
      "source": [
        "model_path = '/tmp/model.h5'"
      ],
      "metadata": {
        "id": "_C-Z-XCj6oNU"
      },
      "execution_count": 83,
      "outputs": []
    },
    {
      "cell_type": "code",
      "source": [
        "from sklearn.preprocessing import MinMaxScaler\n",
        "import matplotlib.pyplot as plt\n",
        "import tensorflow as tf\n",
        "import numpy as np\n",
        "\n",
        "xs = np.arange(-500, 501, 1).reshape(-1, 1)\n",
        "ys = xs*2\n",
        "\n",
        "\n",
        "xs = MinMaxScaler().fit_transform(xs)\n",
        "ys = MinMaxScaler().fit_transform(ys)"
      ],
      "metadata": {
        "id": "E4G8JhB75S6B"
      },
      "execution_count": 84,
      "outputs": []
    },
    {
      "cell_type": "code",
      "source": [
        "np.arange(-500, 501, 1).reshape(-1, 1)"
      ],
      "metadata": {
        "id": "05hDtQOj_tCJ",
        "outputId": "293f8e80-4195-4dff-e236-b17d37c8f68b",
        "colab": {
          "base_uri": "https://localhost:8080/"
        }
      },
      "execution_count": 85,
      "outputs": [
        {
          "output_type": "execute_result",
          "data": {
            "text/plain": [
              "array([[-500],\n",
              "       [-499],\n",
              "       [-498],\n",
              "       ...,\n",
              "       [ 498],\n",
              "       [ 499],\n",
              "       [ 500]])"
            ]
          },
          "metadata": {},
          "execution_count": 85
        }
      ]
    },
    {
      "cell_type": "code",
      "source": [
        "#from tensorflow.keras import Sequential\n",
        "import tensorflow as tf\n",
        "\n",
        "model = tf.keras.Sequential()\n",
        "model.add(tf.keras.layers.Dense(units=1,input_shape=(1,), activation='relu'))\n",
        "#model.add(tf.keras.layers.Dense(16, activation='relu'))\n",
        "#model.add(tf.keras.layers.Dense(1,))\n",
        "model.compile(optimizer='adam',loss = 'mae')\n",
        "\n",
        "model.save(model_path)"
      ],
      "metadata": {
        "id": "85bUGGr-6ZDk"
      },
      "execution_count": 90,
      "outputs": []
    },
    {
      "cell_type": "code",
      "source": [
        "# Compile the model\n",
        "model.compile(optimizer='adam', loss='mae')\n",
        "\n",
        "# Train the model\n",
        "history = model.fit(xs, ys, epochs=10, validation_split=0.2)"
      ],
      "metadata": {
        "id": "GQU7beQa47zI",
        "outputId": "553f0128-ba64-45be-9815-41e06debccd9",
        "colab": {
          "base_uri": "https://localhost:8080/"
        }
      },
      "execution_count": 91,
      "outputs": [
        {
          "output_type": "stream",
          "name": "stdout",
          "text": [
            "Epoch 1/10\n",
            "25/25 [==============================] - 1s 8ms/step - loss: 0.3178 - val_loss: 0.7057\n",
            "Epoch 2/10\n",
            "25/25 [==============================] - 0s 4ms/step - loss: 0.2852 - val_loss: 0.6594\n",
            "Epoch 3/10\n",
            "25/25 [==============================] - 0s 4ms/step - loss: 0.2556 - val_loss: 0.6138\n",
            "Epoch 4/10\n",
            "25/25 [==============================] - 0s 4ms/step - loss: 0.2289 - val_loss: 0.5705\n",
            "Epoch 5/10\n",
            "25/25 [==============================] - 0s 3ms/step - loss: 0.2054 - val_loss: 0.5291\n",
            "Epoch 6/10\n",
            "25/25 [==============================] - 0s 4ms/step - loss: 0.1851 - val_loss: 0.4895\n",
            "Epoch 7/10\n",
            "25/25 [==============================] - 0s 4ms/step - loss: 0.1676 - val_loss: 0.4521\n",
            "Epoch 8/10\n",
            "25/25 [==============================] - 0s 4ms/step - loss: 0.1531 - val_loss: 0.4169\n",
            "Epoch 9/10\n",
            "25/25 [==============================] - 0s 4ms/step - loss: 0.1410 - val_loss: 0.3856\n",
            "Epoch 10/10\n",
            "25/25 [==============================] - 0s 3ms/step - loss: 0.1313 - val_loss: 0.3567\n"
          ]
        }
      ]
    },
    {
      "cell_type": "code",
      "source": [
        "# Predict values for x = 22, 10, -2\n",
        "x_new = np.array([22, 10, -2])\n",
        "y_pred = model.predict(x_new)"
      ],
      "metadata": {
        "id": "pl1QlQOs7Oih",
        "outputId": "0aabce7b-efae-48aa-8f0f-57c90a4c5e5a",
        "colab": {
          "base_uri": "https://localhost:8080/"
        }
      },
      "execution_count": 92,
      "outputs": [
        {
          "output_type": "stream",
          "name": "stdout",
          "text": [
            "1/1 [==============================] - 0s 38ms/step\n"
          ]
        }
      ]
    },
    {
      "cell_type": "code",
      "source": [
        "y_pred"
      ],
      "metadata": {
        "id": "vLu78W_l7QJ6",
        "outputId": "ebc8b517-d871-4d05-b8a4-a2d954cd51e3",
        "colab": {
          "base_uri": "https://localhost:8080/"
        }
      },
      "execution_count": 93,
      "outputs": [
        {
          "output_type": "execute_result",
          "data": {
            "text/plain": [
              "array([[8.901289],\n",
              "       [4.147937],\n",
              "       [0.      ]], dtype=float32)"
            ]
          },
          "metadata": {},
          "execution_count": 93
        }
      ]
    },
    {
      "cell_type": "code",
      "source": [
        "import tensorflow as tf\n",
        "import numpy as np\n",
        "import matplotlib.pyplot as plt\n",
        "\n",
        "# Generate training data from -500 to 500\n",
        "x_train = np.arange(-500, 501, 1).reshape(-1, 1)  # x values from -500 to 500 (inclusive)\n",
        "y_train = (2 * x_train).astype(np.float32)       # y values as 2 * x\n",
        "\n",
        "# Define a simple linear regression model\n",
        "model = tf.keras.Sequential([\n",
        "    tf.keras.layers.Dense(1, input_shape=(1,))\n",
        "])\n",
        "\n",
        "# Compile the model\n",
        "model.compile(optimizer='adam', loss='mse')\n",
        "\n",
        "# Train the model\n",
        "history = model.fit(x_train, y_train, epochs=100, validation_split=0.2)\n",
        "\n",
        "# Predict values for x = 22, 10, -2\n",
        "x_new = np.array([22, 10, -2]).reshape(-1, 1)\n",
        "y_pred = model.predict(x_new)\n",
        "\n",
        "# Print the predictions\n",
        "for i, x_val in enumerate(x_new):\n",
        "    print(f'Prediction for x = {x_val[0]}: y = {y_pred[i][0]}')\n",
        "\n",
        "# Generate new test data from 0 to 1 in increments of 0.001\n",
        "x_test = np.arange(0, 1.001, 0.001).reshape(-1, 1)  # x values from 0 to 1 (inclusive)\n",
        "y_test = 2 * x_test                                # True y values\n",
        "\n",
        "# Predict using the model\n",
        "y_test_pred = model.predict(x_test)\n",
        "\n",
        "# Plot the results\n",
        "plt.figure(figsize=(10, 6))\n",
        "plt.scatter(x_test, y_test, label='True Values', color='blue', s=1)\n",
        "plt.scatter(x_test, y_test_pred, label='Predictions', color='red', s=1)\n",
        "plt.legend()\n",
        "plt.show()"
      ],
      "metadata": {
        "id": "Fm8Ip0Q8Fw21",
        "outputId": "8ebbc200-6a73-4966-f3b8-8fb4a2b66a12",
        "colab": {
          "base_uri": "https://localhost:8080/",
          "height": 1000
        }
      },
      "execution_count": 94,
      "outputs": [
        {
          "output_type": "stream",
          "name": "stdout",
          "text": [
            "Epoch 1/100\n",
            "25/25 [==============================] - 2s 24ms/step - loss: 244068.5625 - val_loss: 620428.4375\n",
            "Epoch 2/100\n",
            "25/25 [==============================] - 0s 7ms/step - loss: 237982.9219 - val_loss: 605060.1250\n",
            "Epoch 3/100\n",
            "25/25 [==============================] - 0s 11ms/step - loss: 232081.5156 - val_loss: 589653.6250\n",
            "Epoch 4/100\n",
            "25/25 [==============================] - 0s 13ms/step - loss: 226184.9844 - val_loss: 574859.7500\n",
            "Epoch 5/100\n",
            "25/25 [==============================] - 0s 11ms/step - loss: 220471.5781 - val_loss: 560235.8750\n",
            "Epoch 6/100\n",
            "25/25 [==============================] - 0s 17ms/step - loss: 214793.8125 - val_loss: 546182.9375\n",
            "Epoch 7/100\n",
            "25/25 [==============================] - 0s 12ms/step - loss: 209314.2344 - val_loss: 532095.3125\n",
            "Epoch 8/100\n",
            "25/25 [==============================] - 0s 7ms/step - loss: 203885.7656 - val_loss: 518302.0000\n",
            "Epoch 9/100\n",
            "25/25 [==============================] - 0s 9ms/step - loss: 198561.5625 - val_loss: 504833.1875\n",
            "Epoch 10/100\n",
            "25/25 [==============================] - 0s 11ms/step - loss: 193343.8438 - val_loss: 491638.0938\n",
            "Epoch 11/100\n",
            "25/25 [==============================] - 0s 10ms/step - loss: 188251.8438 - val_loss: 478571.2188\n",
            "Epoch 12/100\n",
            "25/25 [==============================] - 0s 5ms/step - loss: 183245.0469 - val_loss: 465778.0312\n",
            "Epoch 13/100\n",
            "25/25 [==============================] - 0s 6ms/step - loss: 178337.5469 - val_loss: 453268.9688\n",
            "Epoch 14/100\n",
            "25/25 [==============================] - 0s 5ms/step - loss: 173467.5938 - val_loss: 441358.5625\n",
            "Epoch 15/100\n",
            "25/25 [==============================] - 0s 5ms/step - loss: 168809.9219 - val_loss: 429308.7812\n",
            "Epoch 16/100\n",
            "25/25 [==============================] - 0s 5ms/step - loss: 164212.9062 - val_loss: 417385.0312\n",
            "Epoch 17/100\n",
            "25/25 [==============================] - 0s 4ms/step - loss: 159681.0938 - val_loss: 405804.1875\n",
            "Epoch 18/100\n",
            "25/25 [==============================] - 0s 3ms/step - loss: 155215.8750 - val_loss: 394697.5625\n",
            "Epoch 19/100\n",
            "25/25 [==============================] - 0s 4ms/step - loss: 150891.4844 - val_loss: 383741.9375\n",
            "Epoch 20/100\n",
            "25/25 [==============================] - 0s 4ms/step - loss: 146633.5000 - val_loss: 373079.9062\n",
            "Epoch 21/100\n",
            "25/25 [==============================] - 0s 3ms/step - loss: 142535.2031 - val_loss: 362258.4688\n",
            "Epoch 22/100\n",
            "25/25 [==============================] - 0s 4ms/step - loss: 138394.0469 - val_loss: 352104.1875\n",
            "Epoch 23/100\n",
            "25/25 [==============================] - 0s 4ms/step - loss: 134465.4062 - val_loss: 341827.9375\n",
            "Epoch 24/100\n",
            "25/25 [==============================] - 0s 3ms/step - loss: 130514.9297 - val_loss: 332109.9375\n",
            "Epoch 25/100\n",
            "25/25 [==============================] - 0s 3ms/step - loss: 126760.2188 - val_loss: 322242.9062\n",
            "Epoch 26/100\n",
            "25/25 [==============================] - 0s 3ms/step - loss: 122974.0703 - val_loss: 312948.3125\n",
            "Epoch 27/100\n",
            "25/25 [==============================] - 0s 3ms/step - loss: 119378.0234 - val_loss: 303562.5625\n",
            "Epoch 28/100\n",
            "25/25 [==============================] - 0s 3ms/step - loss: 115762.8438 - val_loss: 294687.8750\n",
            "Epoch 29/100\n",
            "25/25 [==============================] - 0s 3ms/step - loss: 112310.1172 - val_loss: 285792.8438\n",
            "Epoch 30/100\n",
            "25/25 [==============================] - 0s 4ms/step - loss: 108914.0781 - val_loss: 277024.6562\n",
            "Epoch 31/100\n",
            "25/25 [==============================] - 0s 4ms/step - loss: 105571.6172 - val_loss: 268529.6562\n",
            "Epoch 32/100\n",
            "25/25 [==============================] - 0s 3ms/step - loss: 102300.5703 - val_loss: 260334.9219\n",
            "Epoch 33/100\n",
            "25/25 [==============================] - 0s 3ms/step - loss: 99145.5391 - val_loss: 252181.2188\n",
            "Epoch 34/100\n",
            "25/25 [==============================] - 0s 3ms/step - loss: 96014.1016 - val_loss: 244373.0000\n",
            "Epoch 35/100\n",
            "25/25 [==============================] - 0s 3ms/step - loss: 93003.3203 - val_loss: 236605.3281\n",
            "Epoch 36/100\n",
            "25/25 [==============================] - 0s 3ms/step - loss: 90025.1797 - val_loss: 229119.7812\n",
            "Epoch 37/100\n",
            "25/25 [==============================] - 0s 3ms/step - loss: 87161.6328 - val_loss: 221661.8750\n",
            "Epoch 38/100\n",
            "25/25 [==============================] - 0s 4ms/step - loss: 84307.6797 - val_loss: 214579.8438\n",
            "Epoch 39/100\n",
            "25/25 [==============================] - 0s 3ms/step - loss: 81563.0625 - val_loss: 207619.0469\n",
            "Epoch 40/100\n",
            "25/25 [==============================] - 0s 3ms/step - loss: 78886.7734 - val_loss: 200776.0000\n",
            "Epoch 41/100\n",
            "25/25 [==============================] - 0s 3ms/step - loss: 76260.3359 - val_loss: 194151.6250\n",
            "Epoch 42/100\n",
            "25/25 [==============================] - 0s 3ms/step - loss: 73704.1797 - val_loss: 187705.8438\n",
            "Epoch 43/100\n",
            "25/25 [==============================] - 0s 3ms/step - loss: 71225.6016 - val_loss: 181351.6406\n",
            "Epoch 44/100\n",
            "25/25 [==============================] - 0s 4ms/step - loss: 68803.7734 - val_loss: 175133.8906\n",
            "Epoch 45/100\n",
            "25/25 [==============================] - 0s 3ms/step - loss: 66426.6797 - val_loss: 169154.4062\n",
            "Epoch 46/100\n",
            "25/25 [==============================] - 0s 4ms/step - loss: 64122.2852 - val_loss: 163334.3750\n",
            "Epoch 47/100\n",
            "25/25 [==============================] - 0s 3ms/step - loss: 61893.1445 - val_loss: 157582.6562\n",
            "Epoch 48/100\n",
            "25/25 [==============================] - 0s 3ms/step - loss: 59700.8086 - val_loss: 152036.7969\n",
            "Epoch 49/100\n",
            "25/25 [==============================] - 0s 4ms/step - loss: 57566.8359 - val_loss: 146690.4062\n",
            "Epoch 50/100\n",
            "25/25 [==============================] - 0s 4ms/step - loss: 55499.8164 - val_loss: 141477.6875\n",
            "Epoch 51/100\n",
            "25/25 [==============================] - 0s 4ms/step - loss: 53491.6836 - val_loss: 136378.6719\n",
            "Epoch 52/100\n",
            "25/25 [==============================] - 0s 4ms/step - loss: 51550.2812 - val_loss: 131317.5625\n",
            "Epoch 53/100\n",
            "25/25 [==============================] - 0s 3ms/step - loss: 49620.6836 - val_loss: 126564.0000\n",
            "Epoch 54/100\n",
            "25/25 [==============================] - 0s 3ms/step - loss: 47788.0586 - val_loss: 121832.7031\n",
            "Epoch 55/100\n",
            "25/25 [==============================] - 0s 3ms/step - loss: 45986.1562 - val_loss: 117263.2500\n",
            "Epoch 56/100\n",
            "25/25 [==============================] - 0s 3ms/step - loss: 44241.0117 - val_loss: 112819.4453\n",
            "Epoch 57/100\n",
            "25/25 [==============================] - 0s 4ms/step - loss: 42545.6953 - val_loss: 108503.2266\n",
            "Epoch 58/100\n",
            "25/25 [==============================] - 0s 4ms/step - loss: 40906.6289 - val_loss: 104269.5859\n",
            "Epoch 59/100\n",
            "25/25 [==============================] - 0s 4ms/step - loss: 39293.8125 - val_loss: 100255.5625\n",
            "Epoch 60/100\n",
            "25/25 [==============================] - 0s 3ms/step - loss: 37749.6406 - val_loss: 96330.8828\n",
            "Epoch 61/100\n",
            "25/25 [==============================] - 0s 4ms/step - loss: 36244.2969 - val_loss: 92531.5938\n",
            "Epoch 62/100\n",
            "25/25 [==============================] - 0s 3ms/step - loss: 34795.1602 - val_loss: 88794.3516\n",
            "Epoch 63/100\n",
            "25/25 [==============================] - 0s 3ms/step - loss: 33380.3828 - val_loss: 85186.7969\n",
            "Epoch 64/100\n",
            "25/25 [==============================] - 0s 4ms/step - loss: 32002.9707 - val_loss: 81743.7891\n",
            "Epoch 65/100\n",
            "25/25 [==============================] - 0s 3ms/step - loss: 30682.9297 - val_loss: 78373.6016\n",
            "Epoch 66/100\n",
            "25/25 [==============================] - 0s 4ms/step - loss: 29395.1309 - val_loss: 75137.0859\n",
            "Epoch 67/100\n",
            "25/25 [==============================] - 0s 4ms/step - loss: 28165.7402 - val_loss: 71924.3047\n",
            "Epoch 68/100\n",
            "25/25 [==============================] - 0s 3ms/step - loss: 26950.7168 - val_loss: 68900.3125\n",
            "Epoch 69/100\n",
            "25/25 [==============================] - 0s 3ms/step - loss: 25792.5879 - val_loss: 65952.6875\n",
            "Epoch 70/100\n",
            "25/25 [==============================] - 0s 4ms/step - loss: 24668.9121 - val_loss: 63103.7305\n",
            "Epoch 71/100\n",
            "25/25 [==============================] - 0s 4ms/step - loss: 23585.8828 - val_loss: 60335.8359\n",
            "Epoch 72/100\n",
            "25/25 [==============================] - 0s 4ms/step - loss: 22532.5684 - val_loss: 57694.3945\n",
            "Epoch 73/100\n",
            "25/25 [==============================] - 0s 3ms/step - loss: 21525.0098 - val_loss: 55112.7812\n",
            "Epoch 74/100\n",
            "25/25 [==============================] - 0s 3ms/step - loss: 20549.1895 - val_loss: 52615.7617\n",
            "Epoch 75/100\n",
            "25/25 [==============================] - 0s 4ms/step - loss: 19600.1875 - val_loss: 50247.3438\n",
            "Epoch 76/100\n",
            "25/25 [==============================] - 0s 3ms/step - loss: 18699.0742 - val_loss: 47915.0781\n",
            "Epoch 77/100\n",
            "25/25 [==============================] - 0s 4ms/step - loss: 17818.9570 - val_loss: 45695.1641\n",
            "Epoch 78/100\n",
            "25/25 [==============================] - 0s 4ms/step - loss: 16978.0449 - val_loss: 43539.2070\n",
            "Epoch 79/100\n",
            "25/25 [==============================] - 0s 3ms/step - loss: 16161.5508 - val_loss: 41487.9102\n",
            "Epoch 80/100\n",
            "25/25 [==============================] - 0s 3ms/step - loss: 15388.1963 - val_loss: 39462.5859\n",
            "Epoch 81/100\n",
            "25/25 [==============================] - 0s 3ms/step - loss: 14623.9717 - val_loss: 37590.9844\n",
            "Epoch 82/100\n",
            "25/25 [==============================] - 0s 4ms/step - loss: 13908.5752 - val_loss: 35740.3047\n",
            "Epoch 83/100\n",
            "25/25 [==============================] - 0s 4ms/step - loss: 13209.7686 - val_loss: 33986.8828\n",
            "Epoch 84/100\n",
            "25/25 [==============================] - 0s 3ms/step - loss: 12543.6348 - val_loss: 32293.8672\n",
            "Epoch 85/100\n",
            "25/25 [==============================] - 0s 4ms/step - loss: 11905.8389 - val_loss: 30648.8730\n",
            "Epoch 86/100\n",
            "25/25 [==============================] - 0s 4ms/step - loss: 11290.1055 - val_loss: 29076.4629\n",
            "Epoch 87/100\n",
            "25/25 [==============================] - 0s 4ms/step - loss: 10703.7422 - val_loss: 27550.8672\n",
            "Epoch 88/100\n",
            "25/25 [==============================] - 0s 3ms/step - loss: 10134.3184 - val_loss: 26116.1484\n",
            "Epoch 89/100\n",
            "25/25 [==============================] - 0s 4ms/step - loss: 9594.8652 - val_loss: 24733.4258\n",
            "Epoch 90/100\n",
            "25/25 [==============================] - 0s 3ms/step - loss: 9073.8154 - val_loss: 23427.4062\n",
            "Epoch 91/100\n",
            "25/25 [==============================] - 0s 4ms/step - loss: 8578.6533 - val_loss: 22175.0195\n",
            "Epoch 92/100\n",
            "25/25 [==============================] - 0s 3ms/step - loss: 8104.0156 - val_loss: 20982.2930\n",
            "Epoch 93/100\n",
            "25/25 [==============================] - 0s 4ms/step - loss: 7653.0537 - val_loss: 19830.9805\n",
            "Epoch 94/100\n",
            "25/25 [==============================] - 0s 4ms/step - loss: 7224.6143 - val_loss: 18705.4414\n",
            "Epoch 95/100\n",
            "25/25 [==============================] - 0s 3ms/step - loss: 6807.1318 - val_loss: 17660.0273\n",
            "Epoch 96/100\n",
            "25/25 [==============================] - 0s 4ms/step - loss: 6415.2388 - val_loss: 16652.1152\n",
            "Epoch 97/100\n",
            "25/25 [==============================] - 0s 4ms/step - loss: 6040.7798 - val_loss: 15687.2676\n",
            "Epoch 98/100\n",
            "25/25 [==============================] - 0s 3ms/step - loss: 5679.9546 - val_loss: 14790.5273\n",
            "Epoch 99/100\n",
            "25/25 [==============================] - 0s 4ms/step - loss: 5344.0107 - val_loss: 13909.9287\n",
            "Epoch 100/100\n",
            "25/25 [==============================] - 0s 3ms/step - loss: 5019.1138 - val_loss: 13081.2461\n",
            "1/1 [==============================] - 0s 35ms/step\n",
            "Prediction for x = 22: y = 36.27460479736328\n",
            "Prediction for x = 10: y = 15.623675346374512\n",
            "Prediction for x = -2: y = -5.027255058288574\n",
            "32/32 [==============================] - 0s 2ms/step\n"
          ]
        },
        {
          "output_type": "display_data",
          "data": {
            "text/plain": [
              "<Figure size 1000x600 with 1 Axes>"
            ],
            "image/png": "[encoded data removed]"
          },
          "metadata": {}
        }
      ]
    },
    {
      "cell_type": "code",
      "source": [
        "import tensorflow as tf\n",
        "import numpy as np\n",
        "import matplotlib.pyplot as plt\n",
        "from sklearn.preprocessing import MinMaxScaler\n",
        "\n",
        "# Generate training data from -500 to 500\n",
        "x_train = np.arange(-500, 501, 1).reshape(-1, 1)  # x values from -500 to 500 (inclusive)\n",
        "y_train = (2 * x_train).astype(np.float32)       # y values as 2 * x\n",
        "\n",
        "# Normalize the training data\n",
        "scaler = MinMaxScaler()\n",
        "x_train_scaled = scaler.fit_transform(x_train)\n",
        "\n",
        "# Define a simple linear regression model\n",
        "model = tf.keras.Sequential([\n",
        "    tf.keras.layers.Dense(1, input_shape=(1,))\n",
        "])\n",
        "\n",
        "# Compile the model\n",
        "model.compile(optimizer='adam', loss='mse')\n",
        "\n",
        "# Train the model\n",
        "history = model.fit(x_train_scaled, y_train, epochs=100, validation_split=0.2)\n",
        "\n",
        "# Predict values for x = 22, 10, -2\n",
        "x_new = np.array([22, 10, -2]).reshape(-1, 1)\n",
        "x_new_scaled = scaler.transform(x_new)\n",
        "y_pred = model.predict(x_new_scaled)\n",
        "\n",
        "# Print the predictions\n",
        "for i, x_val in enumerate(x_new):\n",
        "    print(f'Prediction for x = {x_val[0]}: y = {y_pred[i][0]}')\n",
        "\n",
        "# Generate new test data from 0 to 1 in increments of 0.001\n",
        "x_test = np.arange(0, 1.001, 0.001).reshape(-1, 1)\n",
        "x_test_scaled = scaler.transform(x_test)\n",
        "y_test = 2 * x_test                                # True y values\n",
        "\n",
        "# Predict using the model\n",
        "y_test_pred = model.predict(x_test_scaled)\n",
        "\n",
        "# Plot the results\n",
        "plt.figure(figsize=(10, 6))\n",
        "plt.scatter(x_test, y_test, label='True Values', color='blue', s=1)\n",
        "plt.scatter(x_test, y_test_pred, label='Predictions', color='red', s=1)\n",
        "plt.legend()\n",
        "plt.show()\n"
      ],
      "metadata": {
        "id": "9dHiRE2kF_Sh",
        "outputId": "ab8fa3ad-3f4d-4566-8463-dd4f56b514f7",
        "colab": {
          "base_uri": "https://localhost:8080/",
          "height": 1000
        }
      },
      "execution_count": 95,
      "outputs": [
        {
          "output_type": "stream",
          "name": "stdout",
          "text": [
            "Epoch 1/100\n",
            "25/25 [==============================] - 1s 11ms/step - loss: 253701.7344 - val_loss: 652710.8750\n",
            "Epoch 2/100\n",
            "25/25 [==============================] - 0s 7ms/step - loss: 253692.1250 - val_loss: 652726.5000\n",
            "Epoch 3/100\n",
            "25/25 [==============================] - 0s 6ms/step - loss: 253681.9531 - val_loss: 652736.0625\n",
            "Epoch 4/100\n",
            "25/25 [==============================] - 0s 8ms/step - loss: 253671.9219 - val_loss: 652748.1875\n",
            "Epoch 5/100\n",
            "25/25 [==============================] - 0s 5ms/step - loss: 253661.8125 - val_loss: 652764.0625\n",
            "Epoch 6/100\n",
            "25/25 [==============================] - 0s 8ms/step - loss: 253651.5938 - val_loss: 652774.8750\n",
            "Epoch 7/100\n",
            "25/25 [==============================] - 0s 10ms/step - loss: 253641.4531 - val_loss: 652788.7500\n",
            "Epoch 8/100\n",
            "25/25 [==============================] - 0s 7ms/step - loss: 253631.2812 - val_loss: 652799.5000\n",
            "Epoch 9/100\n",
            "25/25 [==============================] - 0s 7ms/step - loss: 253621.2344 - val_loss: 652811.7500\n",
            "Epoch 10/100\n",
            "25/25 [==============================] - 0s 10ms/step - loss: 253611.0781 - val_loss: 652826.5000\n",
            "Epoch 11/100\n",
            "25/25 [==============================] - 0s 8ms/step - loss: 253601.0938 - val_loss: 652843.0625\n",
            "Epoch 12/100\n",
            "25/25 [==============================] - 0s 9ms/step - loss: 253590.9219 - val_loss: 652855.8125\n",
            "Epoch 13/100\n",
            "25/25 [==============================] - 0s 17ms/step - loss: 253580.8594 - val_loss: 652868.2500\n",
            "Epoch 14/100\n",
            "25/25 [==============================] - 0s 7ms/step - loss: 253570.6250 - val_loss: 652880.8750\n",
            "Epoch 15/100\n",
            "25/25 [==============================] - 0s 11ms/step - loss: 253560.7656 - val_loss: 652896.3750\n",
            "Epoch 16/100\n",
            "25/25 [==============================] - 0s 11ms/step - loss: 253550.4219 - val_loss: 652907.1250\n",
            "Epoch 17/100\n",
            "25/25 [==============================] - 0s 11ms/step - loss: 253540.3125 - val_loss: 652922.5000\n",
            "Epoch 18/100\n",
            "25/25 [==============================] - 0s 14ms/step - loss: 253530.2656 - val_loss: 652935.5000\n",
            "Epoch 19/100\n",
            "25/25 [==============================] - 0s 11ms/step - loss: 253520.0938 - val_loss: 652947.8750\n",
            "Epoch 20/100\n",
            "25/25 [==============================] - 0s 10ms/step - loss: 253510.0000 - val_loss: 652964.3750\n",
            "Epoch 21/100\n",
            "25/25 [==============================] - 0s 10ms/step - loss: 253499.6406 - val_loss: 652969.5000\n",
            "Epoch 22/100\n",
            "25/25 [==============================] - 0s 16ms/step - loss: 253489.7656 - val_loss: 652985.8125\n",
            "Epoch 23/100\n",
            "25/25 [==============================] - 0s 7ms/step - loss: 253479.5156 - val_loss: 652999.1250\n",
            "Epoch 24/100\n",
            "25/25 [==============================] - 0s 5ms/step - loss: 253469.3438 - val_loss: 653012.8750\n",
            "Epoch 25/100\n",
            "25/25 [==============================] - 0s 8ms/step - loss: 253459.0781 - val_loss: 653022.7500\n",
            "Epoch 26/100\n",
            "25/25 [==============================] - 0s 7ms/step - loss: 253448.8750 - val_loss: 653035.1250\n",
            "Epoch 27/100\n",
            "25/25 [==============================] - 0s 7ms/step - loss: 253439.0156 - val_loss: 653052.5625\n",
            "Epoch 28/100\n",
            "25/25 [==============================] - 0s 7ms/step - loss: 253428.4375 - val_loss: 653060.6250\n",
            "Epoch 29/100\n",
            "25/25 [==============================] - 0s 5ms/step - loss: 253418.3750 - val_loss: 653070.6875\n",
            "Epoch 30/100\n",
            "25/25 [==============================] - 0s 10ms/step - loss: 253408.2812 - val_loss: 653083.6250\n",
            "Epoch 31/100\n",
            "25/25 [==============================] - 0s 6ms/step - loss: 253398.2188 - val_loss: 653101.0625\n",
            "Epoch 32/100\n",
            "25/25 [==============================] - 0s 10ms/step - loss: 253387.7969 - val_loss: 653111.0625\n",
            "Epoch 33/100\n",
            "25/25 [==============================] - 0s 9ms/step - loss: 253377.7031 - val_loss: 653125.1250\n",
            "Epoch 34/100\n",
            "25/25 [==============================] - 0s 6ms/step - loss: 253367.3594 - val_loss: 653134.4375\n",
            "Epoch 35/100\n",
            "25/25 [==============================] - 0s 5ms/step - loss: 253357.5625 - val_loss: 653152.5000\n",
            "Epoch 36/100\n",
            "25/25 [==============================] - 0s 3ms/step - loss: 253346.9844 - val_loss: 653162.0000\n",
            "Epoch 37/100\n",
            "25/25 [==============================] - 0s 3ms/step - loss: 253337.0625 - val_loss: 653175.9375\n",
            "Epoch 38/100\n",
            "25/25 [==============================] - 0s 3ms/step - loss: 253326.7344 - val_loss: 653184.9375\n",
            "Epoch 39/100\n",
            "25/25 [==============================] - 0s 3ms/step - loss: 253316.6406 - val_loss: 653199.6250\n",
            "Epoch 40/100\n",
            "25/25 [==============================] - 0s 4ms/step - loss: 253306.4062 - val_loss: 653210.6875\n",
            "Epoch 41/100\n",
            "25/25 [==============================] - 0s 3ms/step - loss: 253296.2656 - val_loss: 653222.0000\n",
            "Epoch 42/100\n",
            "25/25 [==============================] - 0s 3ms/step - loss: 253286.0156 - val_loss: 653232.1875\n",
            "Epoch 43/100\n",
            "25/25 [==============================] - 0s 3ms/step - loss: 253275.9375 - val_loss: 653248.4375\n",
            "Epoch 44/100\n",
            "25/25 [==============================] - 0s 4ms/step - loss: 253265.6875 - val_loss: 653259.3125\n",
            "Epoch 45/100\n",
            "25/25 [==============================] - 0s 3ms/step - loss: 253255.7188 - val_loss: 653277.3125\n",
            "Epoch 46/100\n",
            "25/25 [==============================] - 0s 3ms/step - loss: 253245.2188 - val_loss: 653285.6250\n",
            "Epoch 47/100\n",
            "25/25 [==============================] - 0s 4ms/step - loss: 253235.1406 - val_loss: 653297.2500\n",
            "Epoch 48/100\n",
            "25/25 [==============================] - 0s 3ms/step - loss: 253225.0469 - val_loss: 653311.6875\n",
            "Epoch 49/100\n",
            "25/25 [==============================] - 0s 3ms/step - loss: 253214.7188 - val_loss: 653322.3750\n",
            "Epoch 50/100\n",
            "25/25 [==============================] - 0s 3ms/step - loss: 253204.6250 - val_loss: 653334.3750\n",
            "Epoch 51/100\n",
            "25/25 [==============================] - 0s 3ms/step - loss: 253194.4219 - val_loss: 653347.1250\n",
            "Epoch 52/100\n",
            "25/25 [==============================] - 0s 3ms/step - loss: 253184.1250 - val_loss: 653361.3125\n",
            "Epoch 53/100\n",
            "25/25 [==============================] - 0s 3ms/step - loss: 253173.8750 - val_loss: 653372.1875\n",
            "Epoch 54/100\n",
            "25/25 [==============================] - 0s 3ms/step - loss: 253163.7031 - val_loss: 653383.7500\n",
            "Epoch 55/100\n",
            "25/25 [==============================] - 0s 3ms/step - loss: 253153.5156 - val_loss: 653399.0000\n",
            "Epoch 56/100\n",
            "25/25 [==============================] - 0s 4ms/step - loss: 253143.2031 - val_loss: 653409.4375\n",
            "Epoch 57/100\n",
            "25/25 [==============================] - 0s 4ms/step - loss: 253133.0625 - val_loss: 653421.8125\n",
            "Epoch 58/100\n",
            "25/25 [==============================] - 0s 3ms/step - loss: 253122.7344 - val_loss: 653431.3750\n",
            "Epoch 59/100\n",
            "25/25 [==============================] - 0s 4ms/step - loss: 253112.5469 - val_loss: 653444.7500\n",
            "Epoch 60/100\n",
            "25/25 [==============================] - 0s 3ms/step - loss: 253102.3125 - val_loss: 653457.6875\n",
            "Epoch 61/100\n",
            "25/25 [==============================] - 0s 3ms/step - loss: 253092.0625 - val_loss: 653469.4375\n",
            "Epoch 62/100\n",
            "25/25 [==============================] - 0s 3ms/step - loss: 253081.8438 - val_loss: 653482.2500\n",
            "Epoch 63/100\n",
            "25/25 [==============================] - 0s 4ms/step - loss: 253071.5156 - val_loss: 653491.1875\n",
            "Epoch 64/100\n",
            "25/25 [==============================] - 0s 4ms/step - loss: 253061.4219 - val_loss: 653506.2500\n",
            "Epoch 65/100\n",
            "25/25 [==============================] - 0s 3ms/step - loss: 253051.0781 - val_loss: 653518.6250\n",
            "Epoch 66/100\n",
            "25/25 [==============================] - 0s 3ms/step - loss: 253040.7812 - val_loss: 653529.0625\n",
            "Epoch 67/100\n",
            "25/25 [==============================] - 0s 3ms/step - loss: 253030.6562 - val_loss: 653541.8750\n",
            "Epoch 68/100\n",
            "25/25 [==============================] - 0s 3ms/step - loss: 253020.5469 - val_loss: 653559.4375\n",
            "Epoch 69/100\n",
            "25/25 [==============================] - 0s 3ms/step - loss: 253010.0469 - val_loss: 653567.3125\n",
            "Epoch 70/100\n",
            "25/25 [==============================] - 0s 4ms/step - loss: 253000.0156 - val_loss: 653582.0625\n",
            "Epoch 71/100\n",
            "25/25 [==============================] - 0s 4ms/step - loss: 252989.6562 - val_loss: 653592.2500\n",
            "Epoch 72/100\n",
            "25/25 [==============================] - 0s 3ms/step - loss: 252979.5625 - val_loss: 653607.8750\n",
            "Epoch 73/100\n",
            "25/25 [==============================] - 0s 3ms/step - loss: 252969.1875 - val_loss: 653616.8750\n",
            "Epoch 74/100\n",
            "25/25 [==============================] - 0s 3ms/step - loss: 252959.0156 - val_loss: 653629.1875\n",
            "Epoch 75/100\n",
            "25/25 [==============================] - 0s 3ms/step - loss: 252948.9219 - val_loss: 653642.0000\n",
            "Epoch 76/100\n",
            "25/25 [==============================] - 0s 3ms/step - loss: 252938.5469 - val_loss: 653652.1250\n",
            "Epoch 77/100\n",
            "25/25 [==============================] - 0s 3ms/step - loss: 252928.4531 - val_loss: 653661.7500\n",
            "Epoch 78/100\n",
            "25/25 [==============================] - 0s 4ms/step - loss: 252918.3594 - val_loss: 653678.5625\n",
            "Epoch 79/100\n",
            "25/25 [==============================] - 0s 4ms/step - loss: 252907.9844 - val_loss: 653690.8750\n",
            "Epoch 80/100\n",
            "25/25 [==============================] - 0s 3ms/step - loss: 252897.7812 - val_loss: 653700.3125\n",
            "Epoch 81/100\n",
            "25/25 [==============================] - 0s 4ms/step - loss: 252887.7031 - val_loss: 653714.1250\n",
            "Epoch 82/100\n",
            "25/25 [==============================] - 0s 4ms/step - loss: 252877.4844 - val_loss: 653727.8125\n",
            "Epoch 83/100\n",
            "25/25 [==============================] - 0s 4ms/step - loss: 252867.3438 - val_loss: 653740.6875\n",
            "Epoch 84/100\n",
            "25/25 [==============================] - 0s 3ms/step - loss: 252857.0625 - val_loss: 653750.9375\n",
            "Epoch 85/100\n",
            "25/25 [==============================] - 0s 3ms/step - loss: 252846.9531 - val_loss: 653765.7500\n",
            "Epoch 86/100\n",
            "25/25 [==============================] - 0s 4ms/step - loss: 252836.5938 - val_loss: 653773.6875\n",
            "Epoch 87/100\n",
            "25/25 [==============================] - 0s 3ms/step - loss: 252826.5000 - val_loss: 653788.1875\n",
            "Epoch 88/100\n",
            "25/25 [==============================] - 0s 3ms/step - loss: 252816.3125 - val_loss: 653800.2500\n",
            "Epoch 89/100\n",
            "25/25 [==============================] - 0s 3ms/step - loss: 252806.0625 - val_loss: 653811.5000\n",
            "Epoch 90/100\n",
            "25/25 [==============================] - 0s 3ms/step - loss: 252796.0156 - val_loss: 653826.1250\n",
            "Epoch 91/100\n",
            "25/25 [==============================] - 0s 3ms/step - loss: 252785.6406 - val_loss: 653834.8125\n",
            "Epoch 92/100\n",
            "25/25 [==============================] - 0s 3ms/step - loss: 252775.6562 - val_loss: 653851.5625\n",
            "Epoch 93/100\n",
            "25/25 [==============================] - 0s 3ms/step - loss: 252765.3125 - val_loss: 653862.3125\n",
            "Epoch 94/100\n",
            "25/25 [==============================] - 0s 3ms/step - loss: 252755.1875 - val_loss: 653876.1250\n",
            "Epoch 95/100\n",
            "25/25 [==============================] - 0s 3ms/step - loss: 252744.9219 - val_loss: 653886.3125\n",
            "Epoch 96/100\n",
            "25/25 [==============================] - 0s 4ms/step - loss: 252734.7344 - val_loss: 653898.3750\n",
            "Epoch 97/100\n",
            "25/25 [==============================] - 0s 3ms/step - loss: 252724.5625 - val_loss: 653910.0000\n",
            "Epoch 98/100\n",
            "25/25 [==============================] - 0s 3ms/step - loss: 252714.3594 - val_loss: 653920.0625\n",
            "Epoch 99/100\n",
            "25/25 [==============================] - 0s 3ms/step - loss: 252704.2812 - val_loss: 653936.0000\n",
            "Epoch 100/100\n",
            "25/25 [==============================] - 0s 4ms/step - loss: 252694.0625 - val_loss: 653949.6875\n",
            "1/1 [==============================] - 0s 33ms/step\n",
            "Prediction for x = 22: y = -1.1584426164627075\n",
            "Prediction for x = 10: y = -1.1850448846817017\n",
            "Prediction for x = -2: y = -1.2116470336914062\n",
            "32/32 [==============================] - 0s 1ms/step\n"
          ]
        },
        {
          "output_type": "display_data",
          "data": {
            "text/plain": [
              "<Figure size 1000x600 with 1 Axes>"
            ],
            "image/png": "[encoded data removed]"
          },
          "metadata": {}
        }
      ]
    },
    {
      "cell_type": "code",
      "source": [
        "from submit_and_test_model_q1 import submit_and_test_model\n",
        "\n",
        "\n",
        "submit_and_test_model(model_path)"
      ],
      "metadata": {
        "id": "mtTYQaI08UBp",
        "outputId": "442908ed-13fd-441f-dd2d-9fc83b544b74",
        "colab": {
          "base_uri": "https://localhost:8080/"
        }
      },
      "execution_count": 82,
      "outputs": [
        {
          "output_type": "stream",
          "name": "stdout",
          "text": [
            "0/5\n"
          ]
        }
      ]
    },
    {
      "cell_type": "markdown",
      "source": [
        "## DISCLAIMER:\n",
        "\n",
        "This set of exercises and practice materials is provided solely for educational and practice purposes. It is not an official resource for the TensorFlow Developer Certificate Exam or endorsed by any official certifying authority. The content in these notebooks is created independently and may not accurately reflect the content, format, or difficulty level of the actual exam.\n",
        "\n",
        "While we have made efforts to ensure the quality and correctness of the exercises, we cannot guarantee that this resource will adequately prepare you for the exam. It is advisable to consult official exam materials, study guides, and resources provided by the certifying authority to ensure you are adequately prepared.\n",
        "\n",
        "Use this resource at your own discretion and consider it as supplementary to your exam preparation efforts. Success on the exam depends on a thorough understanding of the official exam objectives and materials.\n"
      ],
      "metadata": {
        "id": "gSCe9W6_SNMw"
      }
    }
  ]
}