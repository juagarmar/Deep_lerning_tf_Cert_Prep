{
  "nbformat": 4,
  "nbformat_minor": 0,
  "metadata": {
    "colab": {
      "provenance": [],
      "gpuType": "T4",
      "include_colab_link": true
    },
    "kernelspec": {
      "name": "python3",
      "display_name": "Python 3"
    },
    "language_info": {
      "name": "python"
    },
    "accelerator": "GPU"
  },
  "cells": [
    {
      "cell_type": "markdown",
      "metadata": {
        "id": "view-in-github",
        "colab_type": "text"
      },
      "source": [
        "<a href=\"https://colab.research.google.com/github/juagarmar/Deep_lerning_tf_Cert_Prep/blob/main/Q3.ipynb\" target=\"_parent\"><img src=\"https://colab.research.google.com/assets/colab-badge.svg\" alt=\"Open In Colab\"/></a>"
      ]
    },
    {
      "cell_type": "markdown",
      "source": [
        "# Question"
      ],
      "metadata": {
        "id": "bPd_A04H6Jf7"
      }
    },
    {
      "cell_type": "markdown",
      "source": [
        "Build a model to classify the MNIST dataset.\n",
        "\n",
        "Please keep in mind that the evaluation will require the classifier to categorize items into 10 distinct classes. Additionally, make sure that the input shape remains the original dimensions of the MNIST dataset.\n",
        "\n",
        "You should be able to achieve 5/5 by scoring a 99% accuracy on the provided test set.\n",
        "\n",
        "Normalizing the data will help you train a more powerful model.\n",
        "\n",
        "Please save the model in the location given by **model_path**."
      ],
      "metadata": {
        "id": "_PFsASlU48G5"
      }
    },
    {
      "cell_type": "code",
      "source": [
        "!wget https://utils-computervisiondeveloper.s3.amazonaws.com/media/public/TensorFlowDeveloperCertificate/submit_and_test_model_q3.py url -O /tmp/submit_and_test_model_q3.py\n",
        "\n",
        "import sys\n",
        "sys.path.append('/tmp/')"
      ],
      "metadata": {
        "id": "vAJx2em28hg8",
        "outputId": "55a57cd5-a35e-40e3-a97b-0bfb864993b9",
        "colab": {
          "base_uri": "https://localhost:8080/"
        }
      },
      "execution_count": 1,
      "outputs": [
        {
          "output_type": "stream",
          "name": "stdout",
          "text": [
            "--2024-05-23 12:16:59--  https://utils-computervisiondeveloper.s3.amazonaws.com/media/public/TensorFlowDeveloperCertificate/submit_and_test_model_q3.py\n",
            "Resolving utils-computervisiondeveloper.s3.amazonaws.com (utils-computervisiondeveloper.s3.amazonaws.com)... 52.216.8.123, 52.217.65.36, 54.231.225.209, ...\n",
            "Connecting to utils-computervisiondeveloper.s3.amazonaws.com (utils-computervisiondeveloper.s3.amazonaws.com)|52.216.8.123|:443... connected.\n",
            "HTTP request sent, awaiting response... 200 OK\n",
            "Length: 988 [text/x-python]\n",
            "Saving to: ‘/tmp/submit_and_test_model_q3.py’\n",
            "\n",
            "/tmp/submit_and_tes 100%[===================>]     988  --.-KB/s    in 0s      \n",
            "\n",
            "2024-05-23 12:17:00 (54.9 MB/s) - ‘/tmp/submit_and_test_model_q3.py’ saved [988/988]\n",
            "\n",
            "--2024-05-23 12:17:00--  http://url/\n",
            "Resolving url (url)... failed: Name or service not known.\n",
            "wget: unable to resolve host address ‘url’\n",
            "FINISHED --2024-05-23 12:17:00--\n",
            "Total wall clock time: 0.4s\n",
            "Downloaded: 1 files, 988 in 0s (54.9 MB/s)\n"
          ]
        }
      ]
    },
    {
      "cell_type": "code",
      "source": [
        "model_path = '/tmp/model.h5'"
      ],
      "metadata": {
        "id": "_C-Z-XCj6oNU"
      },
      "execution_count": 2,
      "outputs": []
    },
    {
      "cell_type": "code",
      "source": [
        " # Yann LeCun and Corinna Cortes hold the copyright of MNIST dataset, which is a derivative work from original NIST datasets.\n",
        " # MNIST dataset is made available under the terms of the Creative Commons Attribution-Share Alike 3.0 license.\n",
        " # https://creativecommons.org/licenses/by-sa/3.0/\n",
        "\n",
        "import tensorflow_datasets as tfds\n",
        "\n",
        "dataset, metadata = tfds.load('mnist', as_supervised=True, with_info=True)\n",
        "train, test = dataset['train'], dataset['test']\n"
      ],
      "metadata": {
        "id": "E4G8JhB75S6B"
      },
      "execution_count": 4,
      "outputs": []
    },
    {
      "cell_type": "code",
      "source": [
        "import tensorflow as tf\n",
        "import tensorflow_datasets as tfds\n",
        "from tensorflow.keras.models import Sequential\n",
        "from tensorflow.keras.layers import Conv2D, MaxPooling2D, Flatten, Dense\n",
        "import numpy as np\n",
        "\n",
        "# Load the MNIST dataset\n",
        "dataset, metadata = tfds.load('mnist', as_supervised=True, with_info=True)\n",
        "train_dataset, test_dataset = dataset['train'], dataset['test']\n",
        "\n",
        "# Normalize the images to [0, 1] range\n",
        "def normalize(image, label):\n",
        "    image = tf.cast(image, tf.float32)\n",
        "    image /= 255\n",
        "    return image, label\n",
        "\n",
        "train_dataset = train_dataset.map(normalize)\n",
        "test_dataset = test_dataset.map(normalize)\n",
        "\n",
        "# Shuffle and batch the data\n",
        "BATCH_SIZE = 64\n",
        "SHUFFLE_BUFFER_SIZE = 1000\n",
        "\n",
        "train_dataset = train_dataset.shuffle(SHUFFLE_BUFFER_SIZE).batch(BATCH_SIZE)\n",
        "test_dataset = test_dataset.batch(BATCH_SIZE)\n",
        "\n",
        "# Define the CNN model\n",
        "model = Sequential([\n",
        "    Conv2D(32, kernel_size=(3, 3), activation='relu', input_shape=(28, 28, 1)),\n",
        "    MaxPooling2D(pool_size=(2, 2)),\n",
        "    Conv2D(64, kernel_size=(3, 3), activation='relu'),\n",
        "    MaxPooling2D(pool_size=(2, 2)),\n",
        "    Flatten(),\n",
        "    Dense(128, activation='relu'),\n",
        "    Dense(10, activation='softmax')\n",
        "])\n",
        "\n",
        "# Compile the model\n",
        "model.compile(optimizer='adam', loss='sparse_categorical_crossentropy', metrics=['accuracy'])\n",
        "\n",
        "# Train the model\n",
        "model.fit(train_dataset, epochs=10, validation_data=test_dataset)\n",
        "\n",
        "# Save the model\n",
        "model_path = 'mnist_cnn_model.h5'\n",
        "model.save(model_path)\n",
        "\n",
        "# Example prediction\n",
        "for image, label in test_dataset.take(1):\n",
        "    pred = model.predict(image)\n",
        "    print(f'Predictions: {np.argmax(pred, axis=1)}')\n",
        "    print(f'True labels: {label.numpy()}')\n"
      ],
      "metadata": {
        "id": "CQTRKk6FaIrS",
        "outputId": "da7bbcb5-9347-48cf-d135-8e3101aa693f",
        "colab": {
          "base_uri": "https://localhost:8080/"
        }
      },
      "execution_count": 15,
      "outputs": [
        {
          "output_type": "stream",
          "name": "stdout",
          "text": [
            "Epoch 1/10\n",
            "938/938 [==============================] - 13s 9ms/step - loss: 0.1524 - accuracy: 0.9547 - val_loss: 0.0563 - val_accuracy: 0.9809\n",
            "Epoch 2/10\n",
            "938/938 [==============================] - 8s 8ms/step - loss: 0.0478 - accuracy: 0.9855 - val_loss: 0.0368 - val_accuracy: 0.9874\n",
            "Epoch 3/10\n",
            "938/938 [==============================] - 6s 7ms/step - loss: 0.0335 - accuracy: 0.9894 - val_loss: 0.0319 - val_accuracy: 0.9888\n",
            "Epoch 4/10\n",
            "938/938 [==============================] - 7s 7ms/step - loss: 0.0244 - accuracy: 0.9922 - val_loss: 0.0281 - val_accuracy: 0.9906\n",
            "Epoch 5/10\n",
            "938/938 [==============================] - 6s 6ms/step - loss: 0.0182 - accuracy: 0.9941 - val_loss: 0.0349 - val_accuracy: 0.9884\n",
            "Epoch 6/10\n",
            "938/938 [==============================] - 7s 7ms/step - loss: 0.0147 - accuracy: 0.9950 - val_loss: 0.0252 - val_accuracy: 0.9922\n",
            "Epoch 7/10\n",
            "938/938 [==============================] - 7s 7ms/step - loss: 0.0109 - accuracy: 0.9964 - val_loss: 0.0284 - val_accuracy: 0.9915\n",
            "Epoch 8/10\n",
            "938/938 [==============================] - 6s 6ms/step - loss: 0.0100 - accuracy: 0.9964 - val_loss: 0.0349 - val_accuracy: 0.9903\n",
            "Epoch 9/10\n",
            "938/938 [==============================] - 7s 8ms/step - loss: 0.0075 - accuracy: 0.9974 - val_loss: 0.0320 - val_accuracy: 0.9910\n",
            "Epoch 10/10\n",
            "938/938 [==============================] - 6s 6ms/step - loss: 0.0067 - accuracy: 0.9976 - val_loss: 0.0353 - val_accuracy: 0.9916\n",
            "2/2 [==============================] - 0s 4ms/step\n",
            "Predictions: [2 0 4 8 7 6 0 6 3 1 8 0 7 9 8 4 5 3 4 0 6 6 3 0 2 3 6 6 7 4 9 3 8 7 5 4 2\n",
            " 5 5 8 5 2 9 2 4 2 7 0 5 1 0 7 9 9 9 6 5 8 8 6 9 9 5 4]\n",
            "True labels: [2 0 4 8 7 6 0 6 3 1 8 0 7 9 8 4 5 3 4 0 6 6 3 0 2 3 6 6 7 4 9 3 8 7 5 4 2\n",
            " 5 5 8 5 2 9 2 4 2 7 0 5 1 0 7 9 9 9 6 5 8 8 6 9 9 5 4]\n"
          ]
        }
      ]
    },
    {
      "cell_type": "code",
      "source": [
        "from submit_and_test_model_q3 import submit_and_test_model\n",
        "\n",
        "\n",
        "submit_and_test_model(model_path)"
      ],
      "metadata": {
        "id": "mtTYQaI08UBp",
        "outputId": "b514f5a5-c44b-4357-873c-3d76183a2fbf",
        "colab": {
          "base_uri": "https://localhost:8080/"
        }
      },
      "execution_count": 16,
      "outputs": [
        {
          "output_type": "stream",
          "name": "stdout",
          "text": [
            "5/5\n"
          ]
        }
      ]
    },
    {
      "cell_type": "markdown",
      "source": [
        "## DISCLAIMER:\n",
        "\n",
        "This set of exercises and practice materials is provided solely for educational and practice purposes. It is not an official resource for the TensorFlow Developer Certificate Exam or endorsed by any official certifying authority. The content in these notebooks is created independently and may not accurately reflect the content, format, or difficulty level of the actual exam.\n",
        "\n",
        "While we have made efforts to ensure the quality and correctness of the exercises, we cannot guarantee that this resource will adequately prepare you for the exam. It is advisable to consult official exam materials, study guides, and resources provided by the certifying authority to ensure you are adequately prepared.\n",
        "\n",
        "Use this resource at your own discretion and consider it as supplementary to your exam preparation efforts. Success on the exam depends on a thorough understanding of the official exam objectives and materials.\n"
      ],
      "metadata": {
        "id": "lRkE-IcRTSJF"
      }
    }
  ]
}