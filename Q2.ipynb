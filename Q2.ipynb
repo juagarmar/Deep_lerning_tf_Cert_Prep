{
  "nbformat": 4,
  "nbformat_minor": 0,
  "metadata": {
    "colab": {
      "provenance": [],
      "gpuType": "T4",
      "include_colab_link": true
    },
    "kernelspec": {
      "name": "python3",
      "display_name": "Python 3"
    },
    "language_info": {
      "name": "python"
    },
    "accelerator": "GPU"
  },
  "cells": [
    {
      "cell_type": "markdown",
      "metadata": {
        "id": "view-in-github",
        "colab_type": "text"
      },
      "source": [
        "<a href=\"https://colab.research.google.com/github/juagarmar/Deep_lerning_tf_Cert_Prep/blob/main/Q2.ipynb\" target=\"_parent\"><img src=\"https://colab.research.google.com/assets/colab-badge.svg\" alt=\"Open In Colab\"/></a>"
      ]
    },
    {
      "cell_type": "markdown",
      "source": [
        "# Question"
      ],
      "metadata": {
        "id": "bPd_A04H6Jf7"
      }
    },
    {
      "cell_type": "markdown",
      "source": [
        "Using the provided dataset, develop a neural network model with the objective of matching the input values (xs) with their corresponding output values (ys). The goal is to create a model in such a way that when you provide a new input value (X), the model's prediction will yield a floating-point number that is highly accurate, essentially mimicking the desired outcome.\n",
        "\n",
        "The testing framework requires that the trained model accepts input data with a shape of [1].\n",
        "\n",
        "Please save the model in the location given by **model_path**."
      ],
      "metadata": {
        "id": "_PFsASlU48G5"
      }
    },
    {
      "cell_type": "code",
      "source": [
        "!wget https://utils-computervisiondeveloper.s3.amazonaws.com/media/public/TensorFlowDeveloperCertificate/submit_and_test_model_q2.py url -O /tmp/submit_and_test_model_q2.py\n",
        "\n",
        "import sys\n",
        "sys.path.append('/tmp/')"
      ],
      "metadata": {
        "id": "vAJx2em28hg8",
        "outputId": "79d77714-f693-45bf-a56f-e938c75cf059",
        "colab": {
          "base_uri": "https://localhost:8080/"
        }
      },
      "execution_count": 2,
      "outputs": [
        {
          "output_type": "stream",
          "name": "stdout",
          "text": [
            "--2024-05-23 11:21:43--  https://utils-computervisiondeveloper.s3.amazonaws.com/media/public/TensorFlowDeveloperCertificate/submit_and_test_model_q2.py\n",
            "Resolving utils-computervisiondeveloper.s3.amazonaws.com (utils-computervisiondeveloper.s3.amazonaws.com)... 3.5.20.215, 52.216.36.177, 52.216.9.219, ...\n",
            "Connecting to utils-computervisiondeveloper.s3.amazonaws.com (utils-computervisiondeveloper.s3.amazonaws.com)|3.5.20.215|:443... connected.\n",
            "HTTP request sent, awaiting response... 200 OK\n",
            "Length: 487 [text/x-python]\n",
            "Saving to: ‘/tmp/submit_and_test_model_q2.py’\n",
            "\n",
            "/tmp/submit_and_tes 100%[===================>]     487  --.-KB/s    in 0s      \n",
            "\n",
            "2024-05-23 11:21:43 (11.8 MB/s) - ‘/tmp/submit_and_test_model_q2.py’ saved [487/487]\n",
            "\n",
            "--2024-05-23 11:21:43--  http://url/\n",
            "Resolving url (url)... failed: Name or service not known.\n",
            "wget: unable to resolve host address ‘url’\n",
            "FINISHED --2024-05-23 11:21:43--\n",
            "Total wall clock time: 0.4s\n",
            "Downloaded: 1 files, 487 in 0s (11.8 MB/s)\n"
          ]
        }
      ]
    },
    {
      "cell_type": "code",
      "source": [
        "model_path = '/tmp/model.h5'"
      ],
      "metadata": {
        "id": "_C-Z-XCj6oNU"
      },
      "execution_count": 3,
      "outputs": []
    },
    {
      "cell_type": "code",
      "source": [
        "import numpy as np\n",
        "\n",
        "xs = np.asarray([0.5, 4.6, -1.9, -4.6, -4.6, -3.2, -4.1, -2.1, 4.3, -2.0, 2.5, -2.4, -3.3, 3.9, -4.5, -3.0, 3.2, 4.2, 3.7, -0.8, 4.3, 2.5, -1.3, 3.0, 3.4, -2.1, -3.6, 0.7, -0.1, 1.4], dtype=float)\n",
        "ys = np.asarray([0.1, 97.3, -6.9, -97.3, -97.3, -32.8, -68.9, -9.3, 79.5, -8.0, 15.6, -13.8, -35.9, 59.3, -91.1, -27.0, 32.8, 74.1, 50.7, -0.5, 79.5, 15.6, -2.2, 27.0, 39.3, -9.3, -46.7, 0.3, -0.0, 2.7], dtype=float)"
      ],
      "metadata": {
        "id": "E4G8JhB75S6B"
      },
      "execution_count": 4,
      "outputs": []
    },
    {
      "cell_type": "code",
      "source": [
        "from tensorflow.keras import Sequential\n",
        "from tensorflow.keras.models import Sequential\n",
        "from tensorflow.keras.layers import Dense\n",
        "\n",
        "# Define the model\n",
        "model = Sequential([\n",
        "    Dense(64, activation='relu', input_shape=(1,)),\n",
        "    Dense(64, activation='relu'),\n",
        "    Dense(1)\n",
        "])\n",
        "\n",
        "# Compile the model\n",
        "model.compile(optimizer='adam', loss='mse')"
      ],
      "metadata": {
        "id": "85bUGGr-6ZDk"
      },
      "execution_count": 5,
      "outputs": []
    },
    {
      "cell_type": "code",
      "source": [
        "# Train the model\n",
        "model.fit(xs, ys, epochs=100, validation_split=0.2)\n",
        "\n",
        "# Save the model\n",
        "model_path = 'my_model.h5'\n",
        "model.save(model_path)"
      ],
      "metadata": {
        "id": "SmtOs3aKLihE",
        "outputId": "d7bfb13e-fecd-4623-8d74-4d1777a705d1",
        "colab": {
          "base_uri": "https://localhost:8080/"
        }
      },
      "execution_count": 6,
      "outputs": [
        {
          "output_type": "stream",
          "name": "stdout",
          "text": [
            "Epoch 1/100\n",
            "1/1 [==============================] - 4s 4s/step - loss: 2999.4539 - val_loss: 640.3215\n",
            "Epoch 2/100\n",
            "1/1 [==============================] - 0s 32ms/step - loss: 2990.1570 - val_loss: 637.4050\n",
            "Epoch 3/100\n",
            "1/1 [==============================] - 0s 28ms/step - loss: 2981.0947 - val_loss: 634.5212\n",
            "Epoch 4/100\n",
            "1/1 [==============================] - 0s 36ms/step - loss: 2972.1328 - val_loss: 631.7090\n",
            "Epoch 5/100\n",
            "1/1 [==============================] - 0s 28ms/step - loss: 2963.4246 - val_loss: 628.9775\n",
            "Epoch 6/100\n",
            "1/1 [==============================] - 0s 26ms/step - loss: 2955.0032 - val_loss: 626.2551\n",
            "Epoch 7/100\n",
            "1/1 [==============================] - 0s 27ms/step - loss: 2946.6008 - val_loss: 623.5517\n",
            "Epoch 8/100\n",
            "1/1 [==============================] - 0s 28ms/step - loss: 2938.2390 - val_loss: 620.8550\n",
            "Epoch 9/100\n",
            "1/1 [==============================] - 0s 27ms/step - loss: 2929.8887 - val_loss: 618.1649\n",
            "Epoch 10/100\n",
            "1/1 [==============================] - 0s 30ms/step - loss: 2921.5745 - val_loss: 615.5099\n",
            "Epoch 11/100\n",
            "1/1 [==============================] - 0s 27ms/step - loss: 2913.3362 - val_loss: 612.8514\n",
            "Epoch 12/100\n",
            "1/1 [==============================] - 0s 27ms/step - loss: 2905.0847 - val_loss: 610.2559\n",
            "Epoch 13/100\n",
            "1/1 [==============================] - 0s 28ms/step - loss: 2896.9666 - val_loss: 607.7941\n",
            "Epoch 14/100\n",
            "1/1 [==============================] - 0s 28ms/step - loss: 2889.1467 - val_loss: 605.3720\n",
            "Epoch 15/100\n",
            "1/1 [==============================] - 0s 28ms/step - loss: 2881.5422 - val_loss: 602.9183\n",
            "Epoch 16/100\n",
            "1/1 [==============================] - 0s 28ms/step - loss: 2873.8533 - val_loss: 600.4586\n",
            "Epoch 17/100\n",
            "1/1 [==============================] - 0s 30ms/step - loss: 2866.1152 - val_loss: 598.0236\n",
            "Epoch 18/100\n",
            "1/1 [==============================] - 0s 28ms/step - loss: 2858.4470 - val_loss: 595.5844\n",
            "Epoch 19/100\n",
            "1/1 [==============================] - 0s 28ms/step - loss: 2850.8333 - val_loss: 593.1345\n",
            "Epoch 20/100\n",
            "1/1 [==============================] - 0s 32ms/step - loss: 2843.1326 - val_loss: 590.7007\n",
            "Epoch 21/100\n",
            "1/1 [==============================] - 0s 28ms/step - loss: 2835.4148 - val_loss: 588.3448\n",
            "Epoch 22/100\n",
            "1/1 [==============================] - 0s 28ms/step - loss: 2827.9045 - val_loss: 585.9810\n",
            "Epoch 23/100\n",
            "1/1 [==============================] - 0s 30ms/step - loss: 2820.3704 - val_loss: 583.5895\n",
            "Epoch 24/100\n",
            "1/1 [==============================] - 0s 29ms/step - loss: 2812.7703 - val_loss: 581.1552\n",
            "Epoch 25/100\n",
            "1/1 [==============================] - 0s 28ms/step - loss: 2805.0320 - val_loss: 578.6764\n",
            "Epoch 26/100\n",
            "1/1 [==============================] - 0s 28ms/step - loss: 2797.1516 - val_loss: 576.1696\n",
            "Epoch 27/100\n",
            "1/1 [==============================] - 0s 27ms/step - loss: 2789.1438 - val_loss: 573.6113\n",
            "Epoch 28/100\n",
            "1/1 [==============================] - 0s 26ms/step - loss: 2781.0352 - val_loss: 570.9961\n",
            "Epoch 29/100\n",
            "1/1 [==============================] - 0s 27ms/step - loss: 2772.7532 - val_loss: 568.3337\n",
            "Epoch 30/100\n",
            "1/1 [==============================] - 0s 28ms/step - loss: 2764.2996 - val_loss: 565.6625\n",
            "Epoch 31/100\n",
            "1/1 [==============================] - 0s 28ms/step - loss: 2755.7415 - val_loss: 562.9495\n",
            "Epoch 32/100\n",
            "1/1 [==============================] - 0s 31ms/step - loss: 2747.1008 - val_loss: 560.1752\n",
            "Epoch 33/100\n",
            "1/1 [==============================] - 0s 28ms/step - loss: 2738.2820 - val_loss: 557.3735\n",
            "Epoch 34/100\n",
            "1/1 [==============================] - 0s 29ms/step - loss: 2729.3076 - val_loss: 554.5495\n",
            "Epoch 35/100\n",
            "1/1 [==============================] - 0s 28ms/step - loss: 2720.2825 - val_loss: 551.6609\n",
            "Epoch 36/100\n",
            "1/1 [==============================] - 0s 29ms/step - loss: 2711.0735 - val_loss: 548.7054\n",
            "Epoch 37/100\n",
            "1/1 [==============================] - 0s 36ms/step - loss: 2701.6426 - val_loss: 545.6831\n",
            "Epoch 38/100\n",
            "1/1 [==============================] - 0s 28ms/step - loss: 2691.9866 - val_loss: 542.5942\n",
            "Epoch 39/100\n",
            "1/1 [==============================] - 0s 28ms/step - loss: 2682.1045 - val_loss: 539.4383\n",
            "Epoch 40/100\n",
            "1/1 [==============================] - 0s 28ms/step - loss: 2671.9937 - val_loss: 536.2283\n",
            "Epoch 41/100\n",
            "1/1 [==============================] - 0s 28ms/step - loss: 2661.6672 - val_loss: 532.9676\n",
            "Epoch 42/100\n",
            "1/1 [==============================] - 0s 49ms/step - loss: 2651.1978 - val_loss: 529.6422\n",
            "Epoch 43/100\n",
            "1/1 [==============================] - 0s 29ms/step - loss: 2640.5076 - val_loss: 526.3052\n",
            "Epoch 44/100\n",
            "1/1 [==============================] - 0s 30ms/step - loss: 2629.6904 - val_loss: 522.8935\n",
            "Epoch 45/100\n",
            "1/1 [==============================] - 0s 28ms/step - loss: 2618.7551 - val_loss: 519.4074\n",
            "Epoch 46/100\n",
            "1/1 [==============================] - 0s 27ms/step - loss: 2607.5710 - val_loss: 515.8465\n",
            "Epoch 47/100\n",
            "1/1 [==============================] - 0s 30ms/step - loss: 2596.1326 - val_loss: 512.2104\n",
            "Epoch 48/100\n",
            "1/1 [==============================] - 0s 28ms/step - loss: 2584.4353 - val_loss: 508.4989\n",
            "Epoch 49/100\n",
            "1/1 [==============================] - 0s 29ms/step - loss: 2572.4766 - val_loss: 504.7113\n",
            "Epoch 50/100\n",
            "1/1 [==============================] - 0s 28ms/step - loss: 2560.2527 - val_loss: 500.8466\n",
            "Epoch 51/100\n",
            "1/1 [==============================] - 0s 31ms/step - loss: 2547.7595 - val_loss: 496.9043\n",
            "Epoch 52/100\n",
            "1/1 [==============================] - 0s 29ms/step - loss: 2534.9951 - val_loss: 492.8830\n",
            "Epoch 53/100\n",
            "1/1 [==============================] - 0s 28ms/step - loss: 2521.9524 - val_loss: 488.7832\n",
            "Epoch 54/100\n",
            "1/1 [==============================] - 0s 28ms/step - loss: 2508.6318 - val_loss: 484.6045\n",
            "Epoch 55/100\n",
            "1/1 [==============================] - 0s 29ms/step - loss: 2495.0352 - val_loss: 480.3560\n",
            "Epoch 56/100\n",
            "1/1 [==============================] - 0s 29ms/step - loss: 2481.1643 - val_loss: 476.0655\n",
            "Epoch 57/100\n",
            "1/1 [==============================] - 0s 31ms/step - loss: 2467.0430 - val_loss: 471.6952\n",
            "Epoch 58/100\n",
            "1/1 [==============================] - 0s 31ms/step - loss: 2452.7539 - val_loss: 467.2151\n",
            "Epoch 59/100\n",
            "1/1 [==============================] - 0s 28ms/step - loss: 2438.0647 - val_loss: 462.6195\n",
            "Epoch 60/100\n",
            "1/1 [==============================] - 0s 29ms/step - loss: 2423.0156 - val_loss: 457.9298\n",
            "Epoch 61/100\n",
            "1/1 [==============================] - 0s 28ms/step - loss: 2407.6321 - val_loss: 453.1516\n",
            "Epoch 62/100\n",
            "1/1 [==============================] - 0s 28ms/step - loss: 2391.9238 - val_loss: 448.2875\n",
            "Epoch 63/100\n",
            "1/1 [==============================] - 0s 28ms/step - loss: 2375.8945 - val_loss: 443.3394\n",
            "Epoch 64/100\n",
            "1/1 [==============================] - 0s 28ms/step - loss: 2359.5469 - val_loss: 438.3092\n",
            "Epoch 65/100\n",
            "1/1 [==============================] - 0s 28ms/step - loss: 2342.8860 - val_loss: 433.1996\n",
            "Epoch 66/100\n",
            "1/1 [==============================] - 0s 30ms/step - loss: 2325.9031 - val_loss: 428.0100\n",
            "Epoch 67/100\n",
            "1/1 [==============================] - 0s 30ms/step - loss: 2308.6096 - val_loss: 422.7435\n",
            "Epoch 68/100\n",
            "1/1 [==============================] - 0s 29ms/step - loss: 2291.0037 - val_loss: 417.4358\n",
            "Epoch 69/100\n",
            "1/1 [==============================] - 0s 42ms/step - loss: 2273.1809 - val_loss: 412.0107\n",
            "Epoch 70/100\n",
            "1/1 [==============================] - 0s 32ms/step - loss: 2255.0437 - val_loss: 406.6182\n",
            "Epoch 71/100\n",
            "1/1 [==============================] - 0s 29ms/step - loss: 2236.7732 - val_loss: 401.1581\n",
            "Epoch 72/100\n",
            "1/1 [==============================] - 0s 27ms/step - loss: 2218.2090 - val_loss: 395.6370\n",
            "Epoch 73/100\n",
            "1/1 [==============================] - 0s 27ms/step - loss: 2199.3450 - val_loss: 390.0482\n",
            "Epoch 74/100\n",
            "1/1 [==============================] - 0s 28ms/step - loss: 2180.1816 - val_loss: 384.3942\n",
            "Epoch 75/100\n",
            "1/1 [==============================] - 0s 29ms/step - loss: 2160.7212 - val_loss: 378.6791\n",
            "Epoch 76/100\n",
            "1/1 [==============================] - 0s 29ms/step - loss: 2140.9670 - val_loss: 372.9088\n",
            "Epoch 77/100\n",
            "1/1 [==============================] - 0s 28ms/step - loss: 2120.9219 - val_loss: 367.0856\n",
            "Epoch 78/100\n",
            "1/1 [==============================] - 0s 28ms/step - loss: 2100.5908 - val_loss: 361.2066\n",
            "Epoch 79/100\n",
            "1/1 [==============================] - 0s 29ms/step - loss: 2079.9792 - val_loss: 355.2747\n",
            "Epoch 80/100\n",
            "1/1 [==============================] - 0s 30ms/step - loss: 2059.0864 - val_loss: 349.2947\n",
            "Epoch 81/100\n",
            "1/1 [==============================] - 0s 28ms/step - loss: 2037.9263 - val_loss: 343.2846\n",
            "Epoch 82/100\n",
            "1/1 [==============================] - 0s 29ms/step - loss: 2016.4874 - val_loss: 337.2375\n",
            "Epoch 83/100\n",
            "1/1 [==============================] - 0s 29ms/step - loss: 1994.7865 - val_loss: 331.1546\n",
            "Epoch 84/100\n",
            "1/1 [==============================] - 0s 30ms/step - loss: 1972.8291 - val_loss: 325.0404\n",
            "Epoch 85/100\n",
            "1/1 [==============================] - 0s 29ms/step - loss: 1950.6177 - val_loss: 318.8980\n",
            "Epoch 86/100\n",
            "1/1 [==============================] - 0s 31ms/step - loss: 1928.1598 - val_loss: 312.7323\n",
            "Epoch 87/100\n",
            "1/1 [==============================] - 0s 30ms/step - loss: 1905.4623 - val_loss: 306.5464\n",
            "Epoch 88/100\n",
            "1/1 [==============================] - 0s 30ms/step - loss: 1882.5328 - val_loss: 300.3445\n",
            "Epoch 89/100\n",
            "1/1 [==============================] - 0s 29ms/step - loss: 1859.3906 - val_loss: 294.1307\n",
            "Epoch 90/100\n",
            "1/1 [==============================] - 0s 29ms/step - loss: 1836.0092 - val_loss: 287.9113\n",
            "Epoch 91/100\n",
            "1/1 [==============================] - 0s 28ms/step - loss: 1812.4337 - val_loss: 281.6936\n",
            "Epoch 92/100\n",
            "1/1 [==============================] - 0s 43ms/step - loss: 1788.6625 - val_loss: 275.4856\n",
            "Epoch 93/100\n",
            "1/1 [==============================] - 0s 28ms/step - loss: 1764.7007 - val_loss: 269.2903\n",
            "Epoch 94/100\n",
            "1/1 [==============================] - 0s 26ms/step - loss: 1740.5614 - val_loss: 263.1133\n",
            "Epoch 95/100\n",
            "1/1 [==============================] - 0s 31ms/step - loss: 1716.2545 - val_loss: 256.9598\n",
            "Epoch 96/100\n",
            "1/1 [==============================] - 0s 28ms/step - loss: 1691.7914 - val_loss: 250.8338\n",
            "Epoch 97/100\n",
            "1/1 [==============================] - 0s 30ms/step - loss: 1667.1835 - val_loss: 244.7410\n",
            "Epoch 98/100\n",
            "1/1 [==============================] - 0s 27ms/step - loss: 1642.4437 - val_loss: 238.6880\n",
            "Epoch 99/100\n",
            "1/1 [==============================] - 0s 33ms/step - loss: 1617.5834 - val_loss: 232.6814\n",
            "Epoch 100/100\n",
            "1/1 [==============================] - 0s 30ms/step - loss: 1592.6158 - val_loss: 226.7266\n"
          ]
        },
        {
          "output_type": "stream",
          "name": "stderr",
          "text": [
            "/usr/local/lib/python3.10/dist-packages/keras/src/engine/training.py:3103: UserWarning: You are saving your model as an HDF5 file via `model.save()`. This file format is considered legacy. We recommend using instead the native Keras format, e.g. `model.save('my_model.keras')`.\n",
            "  saving_api.save_model(\n"
          ]
        }
      ]
    },
    {
      "cell_type": "code",
      "source": [
        "from submit_and_test_model_q2 import submit_and_test_model\n",
        "\n",
        "\n",
        "submit_and_test_model(model_path)"
      ],
      "metadata": {
        "id": "mtTYQaI08UBp",
        "outputId": "7300f8d5-ef21-456c-8395-364161c24fff",
        "colab": {
          "base_uri": "https://localhost:8080/"
        }
      },
      "execution_count": 7,
      "outputs": [
        {
          "output_type": "stream",
          "name": "stdout",
          "text": [
            "0/5\n"
          ]
        }
      ]
    },
    {
      "cell_type": "markdown",
      "source": [
        "## DISCLAIMER:\n",
        "\n",
        "This set of exercises and practice materials is provided solely for educational and practice purposes. It is not an official resource for the TensorFlow Developer Certificate Exam or endorsed by any official certifying authority. The content in these notebooks is created independently and may not accurately reflect the content, format, or difficulty level of the actual exam.\n",
        "\n",
        "While we have made efforts to ensure the quality and correctness of the exercises, we cannot guarantee that this resource will adequately prepare you for the exam. It is advisable to consult official exam materials, study guides, and resources provided by the certifying authority to ensure you are adequately prepared.\n",
        "\n",
        "Use this resource at your own discretion and consider it as supplementary to your exam preparation efforts. Success on the exam depends on a thorough understanding of the official exam objectives and materials.\n"
      ],
      "metadata": {
        "id": "S7CSeuP8TOQk"
      }
    }
  ]
}